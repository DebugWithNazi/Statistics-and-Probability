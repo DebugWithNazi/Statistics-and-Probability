{
  "nbformat": 4,
  "nbformat_minor": 0,
  "metadata": {
    "colab": {
      "provenance": [],
      "authorship_tag": "ABX9TyP3f/UAehUic0qdpYK6HcPa",
      "include_colab_link": true
    },
    "kernelspec": {
      "name": "python3",
      "display_name": "Python 3"
    },
    "language_info": {
      "name": "python"
    }
  },
  "cells": [
    {
      "cell_type": "markdown",
      "metadata": {
        "id": "view-in-github",
        "colab_type": "text"
      },
      "source": [
        "<a href=\"https://colab.research.google.com/github/DebugWithNazi/Statistics-and-Probability/blob/main/Statistics_%26_Probability_Part1.ipynb\" target=\"_parent\"><img src=\"https://colab.research.google.com/assets/colab-badge.svg\" alt=\"Open In Colab\"/></a>"
      ]
    },
    {
      "cell_type": "markdown",
      "source": [
        "**Statistics and Probability:**\n"
      ],
      "metadata": {
        "id": "2jf8fSyHEu2-"
      }
    },
    {
      "cell_type": "markdown",
      "source": [
        "**Data** is a collection of facts, figures, observations, or measurements that can be recorded and analyzed."
      ],
      "metadata": {
        "id": "YeYyHcr7Fgaa"
      }
    },
    {
      "cell_type": "markdown",
      "source": [
        "Data is raw information—numbers, words, images, sounds, etc.—that on its own may not have meaning until it is processed or interpreted."
      ],
      "metadata": {
        "id": "ULHqOzuFFjD_"
      }
    },
    {
      "cell_type": "markdown",
      "source": [
        "**Types of Data:**"
      ],
      "metadata": {
        "id": "5XXHtBmcFwaJ"
      }
    },
    {
      "cell_type": "markdown",
      "source": [
        "\n",
        "\n",
        "1.   **Qualitative Data** (Descriptive) can't be measured\n",
        "\n",
        "Example: Eye color, names, gender\n",
        "\n",
        "\n",
        "1.   Ordinal data : ordered series of information like rank a performance poor, avg, good\n",
        "2.   Nominal data : does not have any order or ranking like gender male and female, race\n",
        "\n",
        "\n",
        "2.   **Quantitative Data** (Numerical)\n",
        "\n",
        "Discrete: Countable (e.g., number of books, number of students), it can also hold categorical values like spam or not spam messages\n",
        "\n",
        "Continuous: Measurable (e.g., weight, height) infinite number of possible values\n",
        "\n",
        "\n",
        "\n"
      ],
      "metadata": {
        "id": "X87Vh8_wFyEq"
      }
    },
    {
      "cell_type": "markdown",
      "source": [
        "**What is statistics:** Statistics is the branch of mathematics that deals with collecting, organizing, analyzing, interpreting, and presenting data."
      ],
      "metadata": {
        "id": "OOmd1AHgGjrv"
      }
    },
    {
      "cell_type": "markdown",
      "source": [
        "**Statistics** is the science of learning from data.\n",
        "\n",
        "**Key Purposes of Statistics:**\n",
        "\n",
        "\n",
        "*   Describe data (what is happening?)\n",
        "*   Analyze relationships (how are things connected?)\n",
        "\n",
        "*   Predict outcomes (what might happen in the future?)\n",
        "*   Make decisions (based on evidence)\n",
        "\n",
        "\n",
        "\n",
        "\n",
        "\n",
        "\n",
        "\n"
      ],
      "metadata": {
        "id": "UWUU12ojHjRt"
      }
    },
    {
      "cell_type": "markdown",
      "source": [
        "**Two Main Branches:**\n",
        "\n",
        "1.   **Descriptive Statistics** – Summarizes or describes data. Examples: Mean (average), median, mode, charts, tables\n",
        "2.   **Inferential Statistics** – Makes predictions or inferences about a population based on a sample. Examples: Hypothesis testing, confidence intervals, regression\n",
        "\n",
        "\n",
        "\n",
        "\n"
      ],
      "metadata": {
        "id": "GjW9A2pVF9Vz"
      }
    },
    {
      "cell_type": "markdown",
      "source": [
        "Imagine you surveyed 100 students about their favorite subject.\n",
        "\n",
        "**Collecting data:** Getting their answers\n",
        "\n",
        "**Descriptive statistics:** Calculating how many chose Math, Science, English, etc.\n",
        "\n",
        "**Inferential statistics:** Predicting what subject is likely to be most popular in the whole school"
      ],
      "metadata": {
        "id": "kFheQOYRImID"
      }
    },
    {
      "cell_type": "markdown",
      "source": [
        "**Basic Terminilogies in Statistics:**\n",
        "\n",
        " 1. **Population**\n",
        "The entire group you want to study or draw conclusions about.\n",
        "\n",
        "Example: All students in a university.\n",
        "\n",
        "2. **Sample**\n",
        "A subset of the population, used to represent the whole.\n",
        "\n",
        "Example: 100 students selected from the university."
      ],
      "metadata": {
        "id": "8waGzuM2IZdK"
      }
    },
    {
      "cell_type": "markdown",
      "source": [
        "**Main Types of Sampling Techniques:**\n",
        "\n",
        "\n",
        "1.**Probability Sampling** Each member of the population has a known, non-zero chance of being selected.\n",
        "\n",
        "        a. Simple Random Sampling\n",
        "        Every member has an equal chance of being selected.\n",
        "\n",
        "        Example: Drawing names from a hat.\n",
        "\n",
        "        b. Systematic Sampling\n",
        "        Select every kᵗʰ item from a list after a random start.\n",
        "\n",
        "        Example: Pick every 10th student from a roll number list.\n",
        "\n",
        "        c. Stratified Sampling\n",
        "        Divide the population into groups (strata) based on characteristics (e.g., gender, age), then randomly sample from each group.\n",
        "\n",
        "        Example: Select 10 boys and 10 girls from a class.\n",
        "\n",
        "        d. Cluster Sampling\n",
        "        Divide the population into clusters (usually geographically), then randomly select entire clusters.\n",
        "\n",
        "        Example: Randomly choose 3 out of 10 cities and survey all people in those 3.\n",
        "2. **Non-Probability Sampling**\n",
        "\n",
        "Not every member has a known or equal chance of being selected.\n",
        "\n",
        "        a. Convenience Sampling\n",
        "        Select people who are easy to reach.\n",
        "\n",
        "        Example: Surveying people in a shopping mall.\n",
        "\n",
        "        b. Judgmental or Purposive Sampling\n",
        "        Sample is chosen based on the researcher's judgment.\n",
        "\n",
        "        Example: Choosing only expert doctors for a medical study.\n",
        "\n",
        "        c. Snowball Sampling\n",
        "        Existing participants refer new participants.\n",
        "\n",
        "        Used in: Hard-to-reach populations (e.g., drug users, refugees).\n",
        "\n",
        "        d. Quota Sampling\n",
        "        Researcher selects a sample that meets a set quota for various categories.\n",
        "\n",
        "        Example: 50 males and 50 females, chosen non-randomly.\n"
      ],
      "metadata": {
        "id": "JGnXp9O_Jvko"
      }
    },
    {
      "cell_type": "markdown",
      "source": [
        "**Descriptive Statistics:** Descriptive statistics are used to summarize and describe the important features of a dataset.\n",
        "\n",
        "\n",
        "1. **Measures of Central Tendency**\n",
        "These show the \"center\" of the data.\n",
        "\n",
        "Mean (Average):\n",
        "\n",
        "Mean\n",
        "=\n",
        "85\n",
        "+\n",
        "90\n",
        "+\n",
        "95\n",
        "+\n",
        "100\n",
        "+\n",
        "90\n",
        "/\n",
        "5\n",
        "=\n",
        "92\n",
        "Mean=\n",
        "5\n",
        "\n",
        "\n",
        "85+90+95+100+90\n",
        "​\n",
        " =92\n",
        "Median (middle value when sorted):\n",
        "\n",
        "Sorted:\n",
        "[\n",
        "85\n",
        ",\n",
        "90\n",
        ",\n",
        "90\n",
        ",\n",
        "95\n",
        ",\n",
        "100\n",
        "]\n",
        "⇒\n",
        "Median\n",
        "=\n",
        "90\n",
        "Sorted: [85,90,90,95,100]⇒Median=90\n",
        "\n",
        "\n",
        "Mode (most frequent):\n",
        "\n",
        "Mode\n",
        "=\n",
        "90\n",
        "Mode=90\n",
        "2. **Measures of Dispersion** (Spread)\n",
        "These show how spread out the data is.\n",
        "\n",
        "Range = Max - Min =\n",
        "\n",
        "100\n",
        "−\n",
        "85\n",
        "=\n",
        "15\n",
        "100−85=15\n",
        "\n",
        "\n",
        "Variance (average of squared differences from mean)\n",
        "(for population):\n",
        "\n",
        "Variance\n",
        "=\n",
        "(\n",
        "85\n",
        "−\n",
        "92\n",
        ")\n",
        "2\n",
        "+\n",
        "(\n",
        "90\n",
        "−\n",
        "92\n",
        ")\n",
        "2\n",
        "+\n",
        "(\n",
        "95\n",
        "−\n",
        "92\n",
        ")\n",
        "2\n",
        "+\n",
        "(\n",
        "100\n",
        "−\n",
        "92\n",
        ")\n",
        "2\n",
        "+\n",
        "(\n",
        "90\n",
        "−\n",
        "92\n",
        ")\n",
        "2\n",
        "/\n",
        "5\n",
        "=\n",
        "30\n",
        "Variance=\n",
        "5\n",
        "(85−92)\n",
        "2\n",
        " +(90−92)\n",
        "2\n",
        " +(95−92)\n",
        "2\n",
        " +(100−92)\n",
        "2\n",
        " +(90−92)\n",
        "2\n",
        "\n",
        "​\n",
        " =30\n",
        "\n",
        "\n",
        "Standard Deviation = Square root of variance\n",
        "\n",
        "SD\n",
        "=\n",
        "30\n",
        "≈\n",
        "5.48\n",
        "SD=\n",
        "30\n",
        "​\n",
        " ≈5.48\n",
        "\n",
        "3. **Other Descriptive Stats**\n",
        "Minimum = 85\n",
        "\n",
        "Maximum = 100\n",
        "\n",
        "Count (n) = 5\n",
        "\n",
        "Percentiles = Values below which a certain % of data falls\n",
        "(e.g., 25th percentile = 1st quartile)"
      ],
      "metadata": {
        "id": "h8Z3SBJeMC3U"
      }
    },
    {
      "cell_type": "markdown",
      "source": [
        "Descriptive Statistics are divided into **two main** types:\n",
        "\n",
        "**1- Measures of Central Tendency**\n",
        "These describe the center or typical value of the data.\n",
        "\n",
        "Measure\tWhat it tells you\tExample\n",
        "\n",
        "**Mean**\tAverage value\tMean of [2, 4, 6] = 4\n",
        "\n",
        "**Median**\tMiddle value\tMedian of [2, 4, 6] = 4\n",
        "\n",
        "**Mode**\tMost frequent value\tMode of [2, 2, 4] = 2\n",
        "\n",
        "**Purpose:**\n",
        "Helps you understand where most values lie.\n",
        "\n",
        "\n",
        "**2- Measures of Dispersion** (or Spread)\n",
        "These describe how spread out or scattered the data is.\n",
        "\n",
        "Measure\tWhat it tells you\tExample\n",
        "\n",
        "**Range**\tMax - Min\tRange of [2, 4, 6] = 4\n",
        "\n",
        "**Variance**\tHow much values deviate from mean (squared)\tShows average squared deviation\n",
        "\n",
        "**Standard Deviation**\tAverage distance from mean\tSD of [2, 4, 6] ≈ 1.63\n",
        "**Quartiles/Percentiles**\tSplit data into parts\t25th percentile (Q1), 50th (median), 75th (Q3)\n",
        "\n",
        "**Purpose:**\n",
        "Shows how consistent or variable the data is."
      ],
      "metadata": {
        "id": "6GmHyWz4tyb0"
      }
    },
    {
      "cell_type": "markdown",
      "source": [
        "**What is Variance?** (In Simple Words)\n",
        "Variance tells you how spread out the numbers are in a dataset.\n",
        "\n",
        "It shows how far each number is from the mean (average) — and how much the numbers vary from each other.\n",
        "\n",
        "**example:**\n",
        "\n",
        "Student A’s marks: [90, 90, 90] → very consistent\n",
        "\n",
        "Student B’s marks: [60, 90, 120] → same average (90), but up and down\n",
        "\n",
        "They both have the same mean, but their performance is different.\n",
        "\n",
        "Variance helps us see that difference.\n",
        "\n",
        "\n",
        "\n"
      ],
      "metadata": {
        "id": "JPzXJwtZbqro"
      }
    },
    {
      "cell_type": "markdown",
      "source": [
        "**How is Variance Calculated?**\n",
        "Let’s take an example:\n",
        "\n",
        "Marks = [85, 90, 95]\n",
        "\n",
        "Mean = (85 + 90 + 95) / 3 = 90\n",
        "\n",
        "Now subtract the mean from each value and square the result:\n",
        "\n",
        "Value |\tValue - Mean | (Value - Mean)²\n",
        "\n",
        "85\t  |  -5\t         |  25\n",
        "\n",
        "90\t  |   0\t         |  0\n",
        "\n",
        "95\t  |  +5          | \t25  \n",
        "\n",
        "Now take the average of the squared differences:\n",
        "\n",
        "Variance = 25 + 0 + 25 / 3 = 50/3 ≈ 16.67\n"
      ],
      "metadata": {
        "id": "Ya1LVEgpv8vD"
      }
    },
    {
      "cell_type": "markdown",
      "source": [
        "**Why Do We Square the Differences?**\n",
        "\n",
        "\n",
        "\n",
        "*   If we just added the differences, positives and negatives would cancel out.\n",
        "*   Squaring makes everything positive and penalizes large differences more.\n",
        "\n",
        "\n",
        "**Summary**:\n",
        "\n",
        "**Variance**\tThe average of squared differences from the mean\n",
        "\n",
        "**Low variance**\tData values are close to the mean (less spread)\n",
        "\n",
        "**High variance**\tData values are spread out (more variation)"
      ],
      "metadata": {
        "id": "BmG3S9NDxA1Z"
      }
    },
    {
      "cell_type": "markdown",
      "source": [
        "**What is a Quartile?**\n",
        "\n",
        "A quartile divides your data into **4 equal parts** after sorting it in order.\n",
        "\n",
        "Think of it like slicing a pizza into 4 equal parts. Each part (quartile) has 25% of the data.\n",
        "\n",
        "| Name                  | What it Represents       | Description                                    |\n",
        "| --------------------- | ------------------------ | ---------------------------------------------- |\n",
        "| **Q1** (1st Quartile) | 25th percentile          | 25% of values are **less than or equal to** Q1 |\n",
        "| **Q2** (2nd Quartile) | 50th percentile (Median) | 50% of values are less than or equal to Q2     |\n",
        "| **Q3** (3rd Quartile) | 75th percentile          | 75% of values are less than or equal to Q3     |\n",
        "\n",
        "**Example:**\n",
        "\n",
        "Given data:\n",
        "[10, 20, 30, 40, 50, 60, 70, 80, 90] (sorted)\n",
        "\n",
        "Q1 = 25th percentile = 30\n",
        "\n",
        "Q2 = Median = 50\n",
        "\n",
        "Q3 = 75th percentile = 70\n",
        "\n",
        "\n"
      ],
      "metadata": {
        "id": "qrpDE6C8zBee"
      }
    },
    {
      "cell_type": "markdown",
      "source": [
        "**What is the Interquartile Range (IQR)?**\n",
        "\n",
        "The IQR is the range between Q1 and Q3:\n",
        "\n",
        "**IQR = Q3 - Q1**\n",
        "\n",
        "It tells you the spread of the middle 50% of the data.\n",
        "\n",
        "In the above example:\n",
        "\n",
        "Q3 = 70,\n",
        "\n",
        "Q1 = 30\n",
        "\n",
        "IQR = 70 - 30 = 40\n",
        "\n",
        "\n",
        "**Why is IQR Important?**\n",
        "\n",
        "- It shows how spread out the middle part of your data is.\n",
        "- It is not affected by outliers (extremely high or low values).\n",
        "- It gives a better sense of the core variability of your data.\n"
      ],
      "metadata": {
        "id": "qR9uJMh7zWtI"
      }
    },
    {
      "cell_type": "markdown",
      "source": [
        "**Standard Deviation:**\n",
        "\n",
        "Standard Deviation (SD) measures **how spread out** the values in a dataset are from the mean (average).\n",
        "\n",
        "In simple terms:\n",
        "- A **small SD** means the values are **close to the mean**.\n",
        "- A **large SD** means the values are **more spread out**.\n"
      ],
      "metadata": {
        "id": "5Nq-LOTuzMOJ"
      }
    },
    {
      "cell_type": "markdown",
      "source": [
        "σ = √[ Σ (xi - μ)² / N ]\n",
        "\n",
        "Where:\n",
        "- σ = population standard deviation\n",
        "- xi = each data point\n",
        "- μ = population mean\n",
        "- N = number of values\n"
      ],
      "metadata": {
        "id": "SbdTRBgI1qsd"
      }
    },
    {
      "cell_type": "code",
      "source": [
        "Data: [4, 8, 6]\n",
        "\n",
        "Step 1: Mean = (4 + 8 + 6) / 3 = 6\n",
        "\n",
        "Step 2: Differences from mean:\n",
        "- (4 - 6)² = 4\n",
        "- (8 - 6)² = 4\n",
        "- (6 - 6)² = 0\n",
        "\n",
        "Step 3:\n",
        "- Population Variance = (4 + 4 + 0) / 3 = 8 / 3 ≈ 2.67\n",
        "- Population SD = √2.67 ≈ 1.63\n",
        "\n",
        "- Sample Variance = (4 + 4 + 0) / 2 = 8 / 2 = 4\n",
        "- Sample SD = √4 = 2\n"
      ],
      "metadata": {
        "id": "SvbB6uhj1-J0"
      },
      "execution_count": null,
      "outputs": []
    },
    {
      "cell_type": "markdown",
      "source": [
        "| Term               | Meaning                                 |\n",
        "|--------------------|------------------------------------------|\n",
        "| Standard Deviation | How far values are from the mean         |\n",
        "| Low SD             | Values are close together (less spread) |\n",
        "| High SD            | Values are spread out (more variation)  |\n"
      ],
      "metadata": {
        "id": "1JcK6GQv2I78"
      }
    },
    {
      "cell_type": "markdown",
      "source": [
        "- Helps understand consistency or risk (e.g., in marks, finance, quality control)\n",
        "- Often used in combination with mean to describe a dataset\n",
        "- Less affected by outliers than range, but more sensitive than IQR\n"
      ],
      "metadata": {
        "id": "K1jQIVDU2KoH"
      }
    }
  ]
}